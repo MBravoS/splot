{
 "cells": [
  {
   "cell_type": "markdown",
   "metadata": {},
   "source": [
    "# SPLOTCH\n",
    "### Simple PLOTs, Contours and Histograms is a small package with wrapper functions designed to facilitate simplified, concise calls to matplotlib plotting.\n",
    "<br>\n",
    "The general mantra of SPLOTCH is that plotting calls should require only a single line of code to manifest rather than requiring the user to manually specify each aspect of a plot individually (e.g. axes.set_xlim(), axes.set_title(), axes.set_xlabel(), etc.). SPLOTCH is designed to be a <i>superset</i> of matplotlib.pyplot, given you all the functionality that already exists, plus some useful, intuitive shortcuts."
   ]
  },
  {
   "cell_type": "markdown",
   "metadata": {},
   "source": [
    "## Basic Plots\n",
    "### Simple plot using matplotlib\n",
    "The simplest plot one can make is a series of y data against some x data. Producing this in `matplotlib` might look something like the following."
   ]
  },
  {
   "cell_type": "code",
   "execution_count": null,
   "metadata": {},
   "outputs": [],
   "source": [
    "# Import some standard libraries\n",
    "import numpy as np\n",
    "# Import matplotlib\n",
    "import matplotlib.pyplot as plt\n",
    "\n",
    "import matplotlib\n",
    "matplotlib.rcParams['figure.facecolor'] = 'white' # my own fudge for notebooks :/"
   ]
  },
  {
   "cell_type": "code",
   "execution_count": null,
   "metadata": {},
   "outputs": [],
   "source": [
    "# Create some fake data\n",
    "xdata = np.linspace(0.0,10.0,num=200) + np.random.random(size=200)/10.0\n",
    "ydata = xdata**3 - 8*xdata**2 + np.random.normal(0.0,20.0,size=200)\n",
    "cdata = 3*np.sin(xdata*2) + 0.2*abs(ydata)"
   ]
  },
  {
   "cell_type": "code",
   "execution_count": null,
   "metadata": {},
   "outputs": [],
   "source": [
    "fig, ax = plt.subplots()\n",
    "\n",
    "#####  MATPLOTLIB USAGE  #####\n",
    "#--------------------------------------------------------#\n",
    "ax.plot(xdata,ydata)\n",
    "\n",
    "ax.set_xlabel(\"x data\")\n",
    "ax.set_ylabel(\"y data\")\n",
    "ax.set_title(\"A Simple Plot\")\n",
    "\n",
    "ax.grid(True)\n",
    "#--------------------------------------------------------#\n",
    "\n",
    "plt.show()"
   ]
  },
  {
   "cell_type": "markdown",
   "metadata": {},
   "source": [
    "### Now, using SPLOTCH\n",
    "We can replicate the above matplotlib plot in just a single call to SPLOTCH.\n",
    "<br>\n",
    "###### Same outcome ...  just one line."
   ]
  },
  {
   "cell_type": "code",
   "execution_count": null,
   "metadata": {},
   "outputs": [],
   "source": [
    "# import SPLOTCH\n",
    "import splotch as splt"
   ]
  },
  {
   "cell_type": "code",
   "execution_count": null,
   "metadata": {},
   "outputs": [],
   "source": [
    "fig, ax = plt.subplots()\n",
    "\n",
    "#####  SPLOTCH USAGE  #####\n",
    "#--------------------------------------------------------#\n",
    "splt.plot(xdata,ydata,xlabel=\"x data\",ylabel=\"y data\",title=\"A Simple Plot\",grid=True)\n",
    "#--------------------------------------------------------#\n",
    "\n",
    "plt.show()"
   ]
  },
  {
   "cell_type": "markdown",
   "metadata": {},
   "source": [
    "## Basic histograms\n",
    "The same goes for producing basic 1D histograms with SPLOTCH - one line is all it takes. There are also some useful ways to assign binning of the histrogram."
   ]
  },
  {
   "cell_type": "code",
   "execution_count": null,
   "metadata": {},
   "outputs": [],
   "source": [
    "# Create an array with some random distribution\n",
    "data = np.append(np.random.normal(5.0,2.5,size=1000), np.random.normal(10.0,0.5,size=1000))"
   ]
  },
  {
   "cell_type": "code",
   "execution_count": null,
   "metadata": {},
   "outputs": [],
   "source": [
    "fig, (axes1, axes2) = plt.subplots(ncols=2,nrows=1,figsize=(10,3))\n",
    "\n",
    "\n",
    "#####  MATPLOTLIB USAGE  #####\n",
    "#--------------------------------------------------------#\n",
    "axes1.hist(data,bins=30,density=True,histtype='step')\n",
    "\n",
    "axes1.set_xlim(-5,14)\n",
    "axes1.set_ylim(0,0.5)\n",
    "\n",
    "axes1.grid(True)\n",
    "axes1.set_xlabel(\"Some Data\")\n",
    "axes1.set_ylabel(\"Normalised Counts\")\n",
    "axes1.set_title(\"matplotlib.pyplot usage\")\n",
    "#--------------------------------------------------------#\n",
    "\n",
    "\n",
    "#####  SPLOTCH USAGE  #####\n",
    "#--------------------------------------------------------#\n",
    "splt.hist(data,bins=30,ax=axes2,xlim=(-5,14),ylim=(0,0.5),dens=True,\n",
    "          xlabel=\"Some Data\",ylabel=\"Normalised Counts\",title=\"SPLOTCH usage\",grid=True)\n",
    "#--------------------------------------------------------#\n",
    "\n",
    "plt.show()"
   ]
  },
  {
   "cell_type": "markdown",
   "metadata": {},
   "source": [
    "## 2D Images and Colourbars\n",
    "SPLOTCH has a fairly simple wrapper around the currently available `pyplot.imshow()` (or `plt.matshow()`) function but with some additional useful utilities. Colour bars can be tedious to create in standard matplotlib usage as they must be done after-the-fact. In SPLOTCH, you can turn on colour bars within most 2D functions simply by setting `clabel` and can also make use of paramters such as `clog`, `clim`, `cmap`, `cbar_invert`, etc."
   ]
  },
  {
   "cell_type": "code",
   "execution_count": null,
   "metadata": {},
   "outputs": [],
   "source": [
    "### Create an image of a 2D Gaussian\n",
    "X, Y = np.meshgrid(np.linspace(-1,1,25),np.linspace(-1,1,25))\n",
    "img = 5*np.exp(-((X)**2+(Y)**2)/2.0 * 2.0**2)"
   ]
  },
  {
   "cell_type": "code",
   "execution_count": null,
   "metadata": {},
   "outputs": [],
   "source": [
    "fig, axes = plt.subplots(figsize=(8,6))\n",
    "\n",
    "splt.img(img,clim=(2,5),cbar_invert=True,cmap=\"magma\",\n",
    "         xlabel=\"x [pixels]\",ylabel=\"y [pixels]\",clabel=\"$z = e^{-(x^2 + y^2)\\\\sigma^2/2}$\")\n",
    "\n",
    "plt.show()"
   ]
  },
  {
   "cell_type": "markdown",
   "metadata": {},
   "source": [
    "## 2D histograms and contours\n",
    "With SPLOTCH, binning two-dimensional data to produce density distributions or calculating statistics (means, medians, etc.) simultaneously across two axes has never been easier! Simply using the `splotch.hist2D` or `splotch.sigma_cont` will provide all the necessary functionality of working with data in two-dimensions."
   ]
  },
  {
   "cell_type": "code",
   "execution_count": null,
   "metadata": {},
   "outputs": [],
   "source": [
    "# Create some data representing two multi-variate 2D Gaussians\n",
    "num = 10000\n",
    "xvals, yvals = np.append(np.random.multivariate_normal([5,10],[[2,1],[1,2]],size=num//2).T,\n",
    "                         np.random.multivariate_normal([8,6],[[2,0],[0,2]],size=num//2).T,axis=1) \n",
    "cvals = xvals+yvals"
   ]
  },
  {
   "cell_type": "code",
   "execution_count": null,
   "metadata": {},
   "outputs": [],
   "source": [
    "fig, axes = plt.subplots(nrows=3,ncols=1,figsize=(6,14))\n",
    "\n",
    "# A set number of bins across both axes\n",
    "splt.hist2D(xvals, yvals, xlim=(0,12), ylim=(0,16), bins=50, \n",
    "            xlabel=\"x data\",ylabel=\"y data\",clabel=\"Number density\",\n",
    "            title=\"Set Number of Bins\",ax=axes[0])\n",
    "\n",
    "# Different numbers of bins for each axis\n",
    "splt.hist2D(xvals, yvals, xlim=(0,12), ylim=(0,16), dens=False, bins=[20,75],\n",
    "            xlabel=\"x data\",ylabel=\"y data\",clabel=\"Number count\",\n",
    "            title=\"Variable Number of Bins\",\n",
    "            cmap='gray',ax=axes[1])\n",
    "\n",
    "# Array defining arbitrarily-spaced bin edges (e.g. logarithmic below)\n",
    "splt.hist2D(xvals, yvals, c=cvals, xlim=(1,20), ylim=(1,20), dens=False,\n",
    "            bins=np.logspace(-1,2,num=75),clog=True,xlog=True,ylog=True,cstat='mean',\n",
    "            xlabel=\"x data\",ylabel=\"y data\",clabel=\"mean values\",\n",
    "            title=\"Logarithmically-Spaced Bin Edges\",cmap='RdYlBu_r',ax=axes[2])\n",
    "\n",
    "fig.tight_layout()\n",
    "plt.show()"
   ]
  },
  {
   "cell_type": "markdown",
   "metadata": {},
   "source": [
    "# SPLOTCH-specific plots\n",
    "SPLOTCH, as well as adding convenience wrappers around various matplotlib.pyplot functions, also has a series of its own plotting functions for various uses. These include, percentile contours, sector plots, broken axes, etc."
   ]
  },
  {
   "cell_type": "markdown",
   "metadata": {},
   "source": [
    "## Contour Plots\n",
    "Here is the SPLOTCH percentile contours function which, given some x and y data, will create contours around specified percentiles of the two-dimensional distribution."
   ]
  },
  {
   "cell_type": "code",
   "execution_count": null,
   "metadata": {},
   "outputs": [],
   "source": [
    "fig, axes = plt.subplots(figsize=(8,5))\n",
    "\n",
    "splt.contourp(xvals,yvals,percent=[68.3,95.5,99.7],bins=[20,15],lab_loc=2,\n",
    "                xinvert=True,yinvert=False,xlim=(0,16),ylim=(0,16),\n",
    "                xlabel=\"x data (inverted)\",ylabel=\"y data\")\n",
    "\n",
    "plt.show()"
   ]
  },
  {
   "cell_type": "markdown",
   "metadata": {},
   "source": [
    "## Sector Plots\n",
    "Sector plots (a.k.a. \"pizza slice\" plots) are useful for plotting the spatial distribution of data containing one radial axis (r) and another corresponding to the angle (theta)."
   ]
  },
  {
   "cell_type": "code",
   "execution_count": null,
   "metadata": {},
   "outputs": [],
   "source": [
    "thetaArr = np.random.uniform(low=30.0,high=150.0,size=1000)\n",
    "rArr = np.random.gamma(shape=2.0,scale=0.3,size=1000)\n",
    "cArr = 9.0 + rArr*5 + np.random.normal(0.0,2.0,size=1000)"
   ]
  },
  {
   "cell_type": "code",
   "execution_count": null,
   "metadata": {},
   "outputs": [],
   "source": [
    "## Basic sector plot defining the theta and radial limits\n",
    "fig = plt.figure()\n",
    "splt.sector(theta=thetaArr,r=rArr,thetalim=(0.0,150.0),rlim=(0.0,3.0),\n",
    "            rlabel=\"distance\",thetalabel=\"RA\")\n",
    "\n",
    "## Sector plots are treated as a scatter plot so the user can parse any `scatter()` specific into sector()\n",
    "fig = plt.figure()\n",
    "splt.sector(theta=thetaArr,r=rArr,thetalim=(20.0,180.0),rlim=(0.75,3.5),\n",
    "            rlabel=\"distance\",thetalabel=\"RA\",\n",
    "            c=cArr,edgecolor='black',marker='s',s=25*rArr**0.8)\n",
    "\n",
    "## As well as defining the limits of the theta arr, one can define the rotation of the entore sector\n",
    "fig = plt.figure()\n",
    "splt.sector(theta=thetaArr,r=rArr,thetalim=(20.0,160.0),rlim=(0.0,3.0),\n",
    "            rlabel=\"distance\",thetalabel=\"RA\",rotate=90.0,\n",
    "            c=cArr,edgecolor='black',marker='s',s=25*rArr**0.8)\n",
    "\n",
    "plt.show()"
   ]
  },
  {
   "cell_type": "markdown",
   "metadata": {},
   "source": [
    "## Broken axis plots\n",
    "Sometimes you wish to plot some data that has a discontinuity at some point but to plot it on one axis would stretch the limits of the axis. Instead, placing a break in the plot can shw both regions of the data without sacrificing the stretch on the limits."
   ]
  },
  {
   "cell_type": "code",
   "execution_count": null,
   "metadata": {},
   "outputs": [],
   "source": [
    "xbroken = np.append(np.arange(0.0,1.0,step=0.02), np.arange(20.0,30.0,step=0.02))\n",
    "ybroken = xbroken**0.5 + np.random.normal(1.0,0.2,size=len(xbroken))"
   ]
  },
  {
   "cell_type": "code",
   "execution_count": null,
   "metadata": {},
   "outputs": [],
   "source": [
    "fig, axes = splt.subplots(ncols=2,wspace=0.5)\n",
    "\n",
    "splt.plot(xbroken,ybroken,ax=axes[0],\n",
    "          xlabel='Broken x data',ylabel=\"y data\",\n",
    "          linestyle='',marker='o',mec='black')\n",
    "\n",
    "splt.brokenplot(xbroken,ybroken,ax=axes[1],xbreak=[1.5,19.5],\n",
    "                xlabel='Broken x data',ylabel=\"y data\",\n",
    "                linestyle='',marker='o',mec='black')\n",
    "\n",
    "plt.show()"
   ]
  },
  {
   "cell_type": "markdown",
   "metadata": {},
   "source": [
    "# Figure Subplots<br>\n",
    "\n",
    "### Basics\n",
    "\n",
    "The usage subplots within matplotlib is already sufficient to easily create an NxM grid of axis panels within a figure using the `plt.subplots()` function. However, when one wishes to create a set of axes that cannot be represented in the usual NxM layout (e.g. naxes=7), your options are limited. One can instead use the SPLOTCH `subplots()` which, as well as having the base N rows x M cols usage, can allow you to specify an arbitrary number of axes.<br><br>\n",
    "\n",
    "Here's how the `naxes` feature looks in practice:"
   ]
  },
  {
   "cell_type": "code",
   "execution_count": null,
   "metadata": {},
   "outputs": [],
   "source": [
    "fig, axes = splt.subplots(naxes=7,figsize=(9,4),facecolor='lightblue')\n",
    "plt.show()"
   ]
  },
  {
   "cell_type": "markdown",
   "metadata": {},
   "source": [
    "### Axis alignments with splotch.subplots()\n",
    "In the case of `naxes=7`, there are various configurations for this particular 2x4 grid that one could imagine placing the 7 axes within. This functionality is controlled using the `ha` (horizontal alignment) and `va` (vertical alignment) parameters. `ha` accepts <i>'left'</i>, <i>'right'</i> and <i>'centre'</i>, whereas `va` accepts <i>'top'</i>, <i>'bottom'<i> and </i>'middle'</i>.<br><br>\n",
    "\n",
    "Here are a few examples of axis alignments:"
   ]
  },
  {
   "cell_type": "code",
   "execution_count": null,
   "metadata": {},
   "outputs": [],
   "source": [
    "# horizontal alignment: left;  vertical alignment: top (Defaults)\n",
    "fig, axes = splt.subplots(naxes=7,ha='left',va='top',figsize=(9,4),hspace=1,wspace=1,facecolor='lightblue')  \n",
    "fig.suptitle(\"ha = left, va = top\",fontsize=26,y=1.05)\n",
    "for ii in range(len(axes)): axes[ii].text(0.45,0.45,ii,fontsize=22)\n",
    "\n",
    "# horizontal alignment: right;  vertical alignment: bottom\n",
    "fig, axes = splt.subplots(naxes=7,ha='right',va='bottom',figsize=(9,4),hspace=1,wspace=1,facecolor='lightblue') \n",
    "fig.suptitle(\"ha = right, va = bottom\",fontsize=26,y=1.05)\n",
    "for ii in range(len(axes)): axes[ii].text(0.45,0.45,ii,fontsize=22)\n",
    "\n",
    "# horizontal alignment: centre;  vertical alignment: bottom (with two columns)\n",
    "fig, axes = splt.subplots(naxes=7,ncols=2,ha='left',va='centre',figsize=(4,9),hspace=1,wspace=1,facecolor='lightblue') \n",
    "fig.suptitle(\"ha = left, va = centre\",fontsize=26)\n",
    "for ii in range(len(axes)): axes[ii].text(0.45,0.45,ii,fontsize=22)\n",
    "\n",
    "plt.show()"
   ]
  },
  {
   "cell_type": "markdown",
   "metadata": {},
   "source": [
    "### Notes on splotch.subplots()\n",
    "Note that the alignments chosen also impact the order in which each axis instance are arranged within the `axes` array that is returned. Whilst the user can specify any combination of `naxes`, `nrows` and `ncols`, the function will raise an exception if `nrows*ncols != naxes`. The only combination of `ha` and `va` not allowed is where both are <i>'centre'</i>."
   ]
  },
  {
   "cell_type": "markdown",
   "metadata": {},
   "source": [
    "# Working with Text in SPLOTCH\n",
    "Text within plots is itself its own separate element and as such SPLOTCH provides the `adjust_text()` function to control it. This function can make one (or many) choices of text instances to change the text properties for. Currently, the available text instance specified using `which` are:\n",
    "\t* 'x'|'xlabel'   : x-axis label \n",
    "\t* 'y'|'ylabel'   : y-axis label \n",
    "\t* 't'|'title'    : Title\n",
    "\t* 's'|'suptitle' : Super-title (Not implemented)\n",
    "\t* 'l'|'legend'   : Legend text\n",
    "\t* 'c'|'colorbar' : Color bar (Limited to a single colorbar)\n",
    "\t* 'T'|'text'     : Text objects\n",
    "\t* 'a'|'all'      : All instances of all the above"
   ]
  },
  {
   "cell_type": "code",
   "execution_count": null,
   "metadata": {},
   "outputs": [],
   "source": [
    "# Create some data representing two multi-variate 2D Gaussians\n",
    "num = 10000\n",
    "xvals, yvals = np.random.multivariate_normal([5,10],[[2,1],[1,2]],size=num//2).T\n",
    "\n",
    "fig, axes = plt.subplots(nrows=1,ncols=2,figsize=(16,6))\n",
    "\n",
    "splt.hist2D(xvals, yvals, xlim=(0,10), ylim=(5,15), bins=50, \n",
    "            xlabel=\"x data\",ylabel=\"y data\",clabel=\"Number density\",title=\"2D Histogram\",\n",
    "            ax=axes[0])\n",
    "\n",
    "splt.contourp(xvals,yvals,percent=[68.3,95.5,99.7],bins=[20,20],lab_loc=1,\n",
    "                xlim=(0,10), ylim=(5,15),xlabel=\"x data\",ylabel=\"y data\",title=\"Contour Plot\",\n",
    "                ax=axes[1])\n",
    "\n",
    "text1 = axes[0].text(0,14,\"This is a piece of text!\")\n",
    "text2 = axes[0].text(0,13,\"This is another piece of text!\")\n",
    "text3 = axes[0].text(0,12,\"This is the final piece of text!\")\n",
    "\n",
    "text4 = axes[0].text(9,6,\"Look at me, I am some text!\",ha='right')\n",
    "\n",
    "# Adjust x and y labels on all axes\n",
    "splt.adjust_text(['x','y'],fontsize=22,color='red',alpha=0.5,ax=axes)\n",
    "\n",
    "# Adjust title font on only one axis\n",
    "splt.adjust_text('t',fontsize=26,ax=axes,color='darkblue')\n",
    "\n",
    "# Adjust colorbar font\n",
    "splt.adjust_text('c',fontsize=20,fontstyle='italic',fontvariant='small-caps',\n",
    "                 horizontalalignment='right')\n",
    "\n",
    "# Adjust labels in legend\n",
    "splt.adjust_text('l',fontsize=20,color='purple',backgroundcolor='lightgrey',ax=axes[1])\n",
    "\n",
    "# Adjust all text instances in an axis.\n",
    "splt.adjust_text('T',fontsize=20,color='limegreen',ax=axes[0])\n",
    "\n",
    "#... or adjust a specific Text object\n",
    "splt.adjust_text(text4,fontsize=22,color='goldenrod',backgroundcolor='black',ax=axes[0])\n",
    "\n",
    "# All of the above could be achieved in a single-line if desired\n",
    "#splt.adjust_text(['x','y','t','c','l','T',text4],fontsize=[22,22,26,20,20,20,22],\n",
    "#                 color=['red','red','darkblue','black','black','green','goldenrod'],ax=axes)\n",
    "\n",
    "fig.tight_layout()\n",
    "plt.show()"
   ]
  },
  {
   "cell_type": "markdown",
   "metadata": {},
   "source": [
    "## Using plot_kw and **kwargs\n",
    "One of the core features of SPLOTCH is that it is a wrapper around matplotlib.pyplot so the user has access to not only the SLOTCH-specific parameters (e.g. `xlabel`, `title`, `grid`, etc.), they may also access all underlying pyplot parameters by using keyword arguments (kwargs). One can use the `plot_kw` parameter to parse a dictionary of `pyplot` specific arguments that will be fed into the corresponding matplotlib plotting function. Alternatively, simply specifying the parameters as they are named within pyplot functions will be clump them together into a kwargs dictionary that acts the same as `plot_kw`."
   ]
  },
  {
   "cell_type": "code",
   "execution_count": null,
   "metadata": {},
   "outputs": [],
   "source": [
    "fig, axes = plt.subplots(nrows=1,ncols=2,figsize=(16,6))\n",
    "\n",
    "# Basic plot explicitly using plot_kw dictionary\n",
    "kw_dict = dict(marker='o',markersize=10,markerfacecolor='cyan',\n",
    "               markeredgecolor='darkgreen',color='black',alpha=0.8)\n",
    "\n",
    "# feed kw_dict into any splotch function\n",
    "splt.plot(x=xdata,y=ydata,xlog=True,ax=axes[0],\n",
    "          xlabel=\"x data\",ylabel=\"y data\",title=\"Using plot_kw dictionary\",\n",
    "          plot_kw=kw_dict)\n",
    "\n",
    "\n",
    "# Basic plot *implicitly* referencing pyplot parameters which will be given as keyword arguments\n",
    "splt.plot(x=xdata,y=ydata,xlog=True,ax=axes[1],\n",
    "          xlabel=\"x data\",ylabel=\"y data\",title=\"Using **kwargs\",\n",
    "          marker='s',markersize=6,markerfacecolor='black',markeredgecolor='red',color='goldenrod',alpha=1)\n",
    "\n",
    "plt.show()"
   ]
  },
  {
   "cell_type": "markdown",
   "metadata": {},
   "source": [
    "### A complex plot using **kwargs\n",
    "The full potential of using kwargs to specify plotting parameters can be seen in the example scatterplot below."
   ]
  },
  {
   "cell_type": "code",
   "execution_count": null,
   "metadata": {
    "scrolled": false
   },
   "outputs": [],
   "source": [
    "fig, axes = plt.subplots(figsize=(9,6))\n",
    "\n",
    "### Using unnecessarily many kwargs to make a plot.\n",
    "splt.scatter(x=xdata,y=ydata,c=cdata,cmap='jet',vmin=0,vmax=15,plabel=\"A label\",\n",
    "             xlabel=\"x data\",ylabel=\"y data\",clabel='colour',title=\"A complex plot\",\n",
    "             s=150, marker='D', edgecolors='black',linewidths=2,hatch='//////',\n",
    "             alpha=0.75,plotnonfinite=True)\n",
    "\n",
    "plt.show()"
   ]
  }
 ],
 "metadata": {
  "kernelspec": {
   "display_name": "Python 3",
   "language": "python",
   "name": "python3"
  },
  "language_info": {
   "codemirror_mode": {
    "name": "ipython",
    "version": 3
   },
   "file_extension": ".py",
   "mimetype": "text/x-python",
   "name": "python",
   "nbconvert_exporter": "python",
   "pygments_lexer": "ipython3",
   "version": "3.7.4"
  }
 },
 "nbformat": 4,
 "nbformat_minor": 2
}
